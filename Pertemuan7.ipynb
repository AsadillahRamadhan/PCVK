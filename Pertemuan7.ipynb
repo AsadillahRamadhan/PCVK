{
  "nbformat": 4,
  "nbformat_minor": 0,
  "metadata": {
    "colab": {
      "provenance": [],
      "authorship_tag": "ABX9TyOLBc1fCZCrTd3LUyyEplJz",
      "include_colab_link": true
    },
    "kernelspec": {
      "name": "python3",
      "display_name": "Python 3"
    },
    "language_info": {
      "name": "python"
    }
  },
  "cells": [
    {
      "cell_type": "markdown",
      "metadata": {
        "id": "view-in-github",
        "colab_type": "text"
      },
      "source": [
        "<a href=\"https://colab.research.google.com/github/AsadillahRamadhan/PCVK/blob/main/Pertemuan7.ipynb\" target=\"_parent\"><img src=\"https://colab.research.google.com/assets/colab-badge.svg\" alt=\"Open In Colab\"/></a>"
      ]
    },
    {
      "cell_type": "code",
      "execution_count": 1,
      "metadata": {
        "id": "_f0WIDJ-B4Zb",
        "outputId": "43a2b5a6-9ef1-4c06-cccf-22c4801bdb76",
        "colab": {
          "base_uri": "https://localhost:8080/"
        }
      },
      "outputs": [
        {
          "output_type": "stream",
          "name": "stdout",
          "text": [
            "Mounted at /content/drive\n"
          ]
        }
      ],
      "source": [
        "from google.colab import drive\n",
        "\n",
        "drive.mount('/content/drive')"
      ]
    },
    {
      "cell_type": "code",
      "source": [
        "import numpy as np\n",
        "import matplotlib.pyplot as plt\n",
        "import cv2 as cv\n",
        "import math\n",
        "from google.colab.patches import cv2_imshow\n",
        "from PIL import Image as im"
      ],
      "metadata": {
        "id": "G4nQNdneDN71"
      },
      "execution_count": 2,
      "outputs": []
    },
    {
      "cell_type": "code",
      "source": [
        "operasi = input('Masukkan Operasi: ')\n",
        "index = 0\n",
        "if(operasi == 'Sharpen'):\n",
        "  index = 0\n",
        "elif(operasi == 'Emboss'):\n",
        "  index = 2\n",
        "elif(operasi == 'Left Sobel Edge Detection'):\n",
        "  index = 2\n",
        "elif(operasi == 'Canny Edge Detection'):\n",
        "  index = 3\n",
        "elif(operasi == 'Prewitt Edge Detection'):\n",
        "  index = 4\n",
        "elif(operasi == '5x5 Gaussian Blur'):\n",
        "  index = 5\n",
        "else:\n",
        "  index = 6\n",
        "\n",
        "gaussian_blur_5x5 = [\n",
        "    [1,4,6,4,1],\n",
        "    [4,16,24,16,4],\n",
        "    [6,24,36,24,6],\n",
        "    [4,16,24,16,4],\n",
        "    [1,4,6,4,1]\n",
        "]\n",
        "\n",
        "for i in range(len(gaussian_blur_5x5)):\n",
        "  for j in range(len(gaussian_blur_5x5[0])):\n",
        "    gaussian_blur_5x5[i][j] *= (1/256)\n",
        "\n",
        "sigma = math.sqrt(21)\n",
        "gaussian_kernel = cv.getGaussianKernel(21, sigma)\n",
        "gauss_kernel = gaussian_kernel @ gaussian_kernel.transpose()\n",
        "kernel = [\n",
        "    [\n",
        "        [0,-1,0],\n",
        "        [-1,5,-1],\n",
        "        [0,-1,0]\n",
        "    ],\n",
        "    [\n",
        "        [-2,-1,0],\n",
        "        [-1,1,1],\n",
        "        [0,1,2]\n",
        "    ],\n",
        "    [\n",
        "        [1,0,-1],\n",
        "        [2,0,-2],\n",
        "        [1,0,-1]\n",
        "    ],\n",
        "    [\n",
        "        [-1,-1,-1],\n",
        "        [-1,8,-1],\n",
        "        [-1,-1,-1]\n",
        "    ],\n",
        "    [\n",
        "        [-1,-1,-1],\n",
        "        [0,0,0],\n",
        "        [1,1,1]\n",
        "    ],\n",
        "    gaussian_blur_5x5,\n",
        "    gauss_kernel\n",
        "]\n",
        "\n",
        "img = cv.imread('/content/drive/MyDrive/Pengolahan Citra dan Komputer Vision/Images/couple.tiff')\n",
        "img = cv.cvtColor(img, cv.COLOR_BGR2GRAY)\n",
        "\n",
        "def convolution2d(image, kernel, stride, padding):\n",
        "  new_image = np.zeros(image.shape, image.dtype)\n",
        "  image = np.pad(image, padding, mode='constant', constant_values=0)\n",
        "  for y in range(image.shape[0] - len(kernel)):\n",
        "    for x in range(image.shape[1] - len(kernel[0])):\n",
        "      new_image[y][x] = np.sum(image[y * stride:y * stride + len(kernel), x * stride:x * stride + len(kernel[0])] * kernel)\n",
        "  return new_image\n",
        "\n",
        "\n",
        "hasil_image = convolution2d(img, kernel[index], 1, 2)\n",
        "print('\\n')\n",
        "print(img.shape[0])\n",
        "hasil_image = img.resize((256, 256))\n",
        "cv2_imshow(cv.hconcat((img, hasil_image)))"
      ],
      "metadata": {
        "id": "_0IUHzchDZVF",
        "outputId": "362fec13-a295-48bf-b399-0bcfab926742",
        "colab": {
          "base_uri": "https://localhost:8080/",
          "height": 297
        }
      },
      "execution_count": 66,
      "outputs": [
        {
          "output_type": "stream",
          "name": "stdout",
          "text": [
            "Masukkan Operasi: \n",
            "\n",
            "\n",
            "256\n"
          ]
        },
        {
          "output_type": "error",
          "ename": "error",
          "evalue": "ignored",
          "traceback": [
            "\u001b[0;31m---------------------------------------------------------------------------\u001b[0m",
            "\u001b[0;31merror\u001b[0m                                     Traceback (most recent call last)",
            "\u001b[0;32m<ipython-input-66-7495bcca6076>\u001b[0m in \u001b[0;36m<cell line: 79>\u001b[0;34m()\u001b[0m\n\u001b[1;32m     77\u001b[0m \u001b[0mprint\u001b[0m\u001b[0;34m(\u001b[0m\u001b[0mimg\u001b[0m\u001b[0;34m.\u001b[0m\u001b[0mshape\u001b[0m\u001b[0;34m[\u001b[0m\u001b[0;36m0\u001b[0m\u001b[0;34m]\u001b[0m\u001b[0;34m)\u001b[0m\u001b[0;34m\u001b[0m\u001b[0;34m\u001b[0m\u001b[0m\n\u001b[1;32m     78\u001b[0m \u001b[0mhasil_image\u001b[0m \u001b[0;34m=\u001b[0m \u001b[0mimg\u001b[0m\u001b[0;34m.\u001b[0m\u001b[0mresize\u001b[0m\u001b[0;34m(\u001b[0m\u001b[0;34m(\u001b[0m\u001b[0;36m256\u001b[0m\u001b[0;34m,\u001b[0m \u001b[0;36m256\u001b[0m\u001b[0;34m)\u001b[0m\u001b[0;34m)\u001b[0m\u001b[0;34m\u001b[0m\u001b[0;34m\u001b[0m\u001b[0m\n\u001b[0;32m---> 79\u001b[0;31m \u001b[0mcv2_imshow\u001b[0m\u001b[0;34m(\u001b[0m\u001b[0mcv\u001b[0m\u001b[0;34m.\u001b[0m\u001b[0mhconcat\u001b[0m\u001b[0;34m(\u001b[0m\u001b[0;34m(\u001b[0m\u001b[0mimg\u001b[0m\u001b[0;34m,\u001b[0m \u001b[0mhasil_image\u001b[0m\u001b[0;34m)\u001b[0m\u001b[0;34m)\u001b[0m\u001b[0;34m)\u001b[0m\u001b[0;34m\u001b[0m\u001b[0;34m\u001b[0m\u001b[0m\n\u001b[0m",
            "\u001b[0;31merror\u001b[0m: OpenCV(4.8.0) /io/opencv/modules/core/src/matrix_operations.cpp:65: error: (-215:Assertion failed) src[i].dims <= 2 && src[i].rows == src[0].rows && src[i].type() == src[0].type() in function 'hconcat'\n"
          ]
        }
      ]
    }
  ]
}